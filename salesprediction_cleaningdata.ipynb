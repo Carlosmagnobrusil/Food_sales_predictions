{
  "nbformat": 4,
  "nbformat_minor": 0,
  "metadata": {
    "colab": {
      "name": "salesprediction_cleaningdata.ipynb",
      "provenance": [],
      "collapsed_sections": [],
      "authorship_tag": "ABX9TyPehiCjtyoKW9EgOpaZvgXu",
      "include_colab_link": true
    },
    "kernelspec": {
      "name": "python3",
      "display_name": "Python 3"
    },
    "language_info": {
      "name": "python"
    }
  },
  "cells": [
    {
      "cell_type": "markdown",
      "metadata": {
        "id": "view-in-github",
        "colab_type": "text"
      },
      "source": [
        "<a href=\"https://colab.research.google.com/github/Carlosmagnobrusil/Food_sales_predictions/blob/main/salesprediction_cleaningdata.ipynb\" target=\"_parent\"><img src=\"https://colab.research.google.com/assets/colab-badge.svg\" alt=\"Open In Colab\"/></a>"
      ]
    },
    {
      "cell_type": "markdown",
      "source": [
        "#**Prediccion de ventas**\n",
        "## *Creado por: Carlos Brusil*\n",
        "\n",
        "\n",
        "\n",
        "*   Fecha de Creación: 14 de enero de 2022 \n",
        "*   Fechad de actualización: 15 de enero de 2022\n",
        "*   Descripción: Realizar la revision y limpieza de datos entregados para evitar futuros inconvenientes en el modelo de predicción "
      ],
      "metadata": {
        "id": "UeGcJHPUHXMC"
      }
    },
    {
      "cell_type": "markdown",
      "source": [
        "### Carga de datos "
      ],
      "metadata": {
        "id": "AQGbBvikJvC-"
      }
    },
    {
      "cell_type": "code",
      "source": [
        "from google.colab import drive\n",
        "drive.mount('/content/drive') # uno my Drive al nuevo cuaderno\n"
      ],
      "metadata": {
        "id": "0CuKzU9WHtBr",
        "colab": {
          "base_uri": "https://localhost:8080/"
        },
        "outputId": "b2b7ec8a-9122-4fcc-eb06-64e89095bc56"
      },
      "execution_count": 22,
      "outputs": [
        {
          "output_type": "stream",
          "name": "stdout",
          "text": [
            "Drive already mounted at /content/drive; to attempt to forcibly remount, call drive.mount(\"/content/drive\", force_remount=True).\n"
          ]
        }
      ]
    },
    {
      "cell_type": "code",
      "source": [
        "import pandas as pd #importo la libreria panda \n",
        "sales_data =  '/content/drive/MyDrive/Coding_Dojo/Semana 2/Pandas Data science/Data /sales_predictions.csv' #Nombro a la base\n",
        "sales_df = pd.read_csv(sales_data) #le doy un nombre a la trama \n",
        "#de datos  ene ste caso el sugerido en la tarea como no tiene titulos el archivo txt uso el metodo header y que mantega los \n",
        "#valores vacios con na \n",
        "sales_df.head() #Observo que los datos hayan sido leidos de forma correcta\n",
        "\n"
      ],
      "metadata": {
        "colab": {
          "base_uri": "https://localhost:8080/",
          "height": 357
        },
        "id": "Z3ZUyoGLLDrD",
        "outputId": "d0ff3580-faca-4519-8b03-537878331ef7"
      },
      "execution_count": 38,
      "outputs": [
        {
          "output_type": "execute_result",
          "data": {
            "text/html": [
              "\n",
              "  <div id=\"df-81f6f3a1-712e-4f33-aa29-1c93aefc3749\">\n",
              "    <div class=\"colab-df-container\">\n",
              "      <div>\n",
              "<style scoped>\n",
              "    .dataframe tbody tr th:only-of-type {\n",
              "        vertical-align: middle;\n",
              "    }\n",
              "\n",
              "    .dataframe tbody tr th {\n",
              "        vertical-align: top;\n",
              "    }\n",
              "\n",
              "    .dataframe thead th {\n",
              "        text-align: right;\n",
              "    }\n",
              "</style>\n",
              "<table border=\"1\" class=\"dataframe\">\n",
              "  <thead>\n",
              "    <tr style=\"text-align: right;\">\n",
              "      <th></th>\n",
              "      <th>Item_Identifier</th>\n",
              "      <th>Item_Weight</th>\n",
              "      <th>Item_Fat_Content</th>\n",
              "      <th>Item_Visibility</th>\n",
              "      <th>Item_Type</th>\n",
              "      <th>Item_MRP</th>\n",
              "      <th>Outlet_Identifier</th>\n",
              "      <th>Outlet_Establishment_Year</th>\n",
              "      <th>Outlet_Size</th>\n",
              "      <th>Outlet_Location_Type</th>\n",
              "      <th>Outlet_Type</th>\n",
              "      <th>Item_Outlet_Sales</th>\n",
              "    </tr>\n",
              "  </thead>\n",
              "  <tbody>\n",
              "    <tr>\n",
              "      <th>0</th>\n",
              "      <td>FDA15</td>\n",
              "      <td>9.30</td>\n",
              "      <td>Low Fat</td>\n",
              "      <td>0.016047</td>\n",
              "      <td>Dairy</td>\n",
              "      <td>249.8092</td>\n",
              "      <td>OUT049</td>\n",
              "      <td>1999</td>\n",
              "      <td>Medium</td>\n",
              "      <td>Tier 1</td>\n",
              "      <td>Supermarket Type1</td>\n",
              "      <td>3735.1380</td>\n",
              "    </tr>\n",
              "    <tr>\n",
              "      <th>1</th>\n",
              "      <td>DRC01</td>\n",
              "      <td>5.92</td>\n",
              "      <td>Regular</td>\n",
              "      <td>0.019278</td>\n",
              "      <td>Soft Drinks</td>\n",
              "      <td>48.2692</td>\n",
              "      <td>OUT018</td>\n",
              "      <td>2009</td>\n",
              "      <td>Medium</td>\n",
              "      <td>Tier 3</td>\n",
              "      <td>Supermarket Type2</td>\n",
              "      <td>443.4228</td>\n",
              "    </tr>\n",
              "    <tr>\n",
              "      <th>2</th>\n",
              "      <td>FDN15</td>\n",
              "      <td>17.50</td>\n",
              "      <td>Low Fat</td>\n",
              "      <td>0.016760</td>\n",
              "      <td>Meat</td>\n",
              "      <td>141.6180</td>\n",
              "      <td>OUT049</td>\n",
              "      <td>1999</td>\n",
              "      <td>Medium</td>\n",
              "      <td>Tier 1</td>\n",
              "      <td>Supermarket Type1</td>\n",
              "      <td>2097.2700</td>\n",
              "    </tr>\n",
              "    <tr>\n",
              "      <th>3</th>\n",
              "      <td>FDX07</td>\n",
              "      <td>19.20</td>\n",
              "      <td>Regular</td>\n",
              "      <td>0.000000</td>\n",
              "      <td>Fruits and Vegetables</td>\n",
              "      <td>182.0950</td>\n",
              "      <td>OUT010</td>\n",
              "      <td>1998</td>\n",
              "      <td>NaN</td>\n",
              "      <td>Tier 3</td>\n",
              "      <td>Grocery Store</td>\n",
              "      <td>732.3800</td>\n",
              "    </tr>\n",
              "    <tr>\n",
              "      <th>4</th>\n",
              "      <td>NCD19</td>\n",
              "      <td>8.93</td>\n",
              "      <td>Low Fat</td>\n",
              "      <td>0.000000</td>\n",
              "      <td>Household</td>\n",
              "      <td>53.8614</td>\n",
              "      <td>OUT013</td>\n",
              "      <td>1987</td>\n",
              "      <td>High</td>\n",
              "      <td>Tier 3</td>\n",
              "      <td>Supermarket Type1</td>\n",
              "      <td>994.7052</td>\n",
              "    </tr>\n",
              "  </tbody>\n",
              "</table>\n",
              "</div>\n",
              "      <button class=\"colab-df-convert\" onclick=\"convertToInteractive('df-81f6f3a1-712e-4f33-aa29-1c93aefc3749')\"\n",
              "              title=\"Convert this dataframe to an interactive table.\"\n",
              "              style=\"display:none;\">\n",
              "        \n",
              "  <svg xmlns=\"http://www.w3.org/2000/svg\" height=\"24px\"viewBox=\"0 0 24 24\"\n",
              "       width=\"24px\">\n",
              "    <path d=\"M0 0h24v24H0V0z\" fill=\"none\"/>\n",
              "    <path d=\"M18.56 5.44l.94 2.06.94-2.06 2.06-.94-2.06-.94-.94-2.06-.94 2.06-2.06.94zm-11 1L8.5 8.5l.94-2.06 2.06-.94-2.06-.94L8.5 2.5l-.94 2.06-2.06.94zm10 10l.94 2.06.94-2.06 2.06-.94-2.06-.94-.94-2.06-.94 2.06-2.06.94z\"/><path d=\"M17.41 7.96l-1.37-1.37c-.4-.4-.92-.59-1.43-.59-.52 0-1.04.2-1.43.59L10.3 9.45l-7.72 7.72c-.78.78-.78 2.05 0 2.83L4 21.41c.39.39.9.59 1.41.59.51 0 1.02-.2 1.41-.59l7.78-7.78 2.81-2.81c.8-.78.8-2.07 0-2.86zM5.41 20L4 18.59l7.72-7.72 1.47 1.35L5.41 20z\"/>\n",
              "  </svg>\n",
              "      </button>\n",
              "      \n",
              "  <style>\n",
              "    .colab-df-container {\n",
              "      display:flex;\n",
              "      flex-wrap:wrap;\n",
              "      gap: 12px;\n",
              "    }\n",
              "\n",
              "    .colab-df-convert {\n",
              "      background-color: #E8F0FE;\n",
              "      border: none;\n",
              "      border-radius: 50%;\n",
              "      cursor: pointer;\n",
              "      display: none;\n",
              "      fill: #1967D2;\n",
              "      height: 32px;\n",
              "      padding: 0 0 0 0;\n",
              "      width: 32px;\n",
              "    }\n",
              "\n",
              "    .colab-df-convert:hover {\n",
              "      background-color: #E2EBFA;\n",
              "      box-shadow: 0px 1px 2px rgba(60, 64, 67, 0.3), 0px 1px 3px 1px rgba(60, 64, 67, 0.15);\n",
              "      fill: #174EA6;\n",
              "    }\n",
              "\n",
              "    [theme=dark] .colab-df-convert {\n",
              "      background-color: #3B4455;\n",
              "      fill: #D2E3FC;\n",
              "    }\n",
              "\n",
              "    [theme=dark] .colab-df-convert:hover {\n",
              "      background-color: #434B5C;\n",
              "      box-shadow: 0px 1px 3px 1px rgba(0, 0, 0, 0.15);\n",
              "      filter: drop-shadow(0px 1px 2px rgba(0, 0, 0, 0.3));\n",
              "      fill: #FFFFFF;\n",
              "    }\n",
              "  </style>\n",
              "\n",
              "      <script>\n",
              "        const buttonEl =\n",
              "          document.querySelector('#df-81f6f3a1-712e-4f33-aa29-1c93aefc3749 button.colab-df-convert');\n",
              "        buttonEl.style.display =\n",
              "          google.colab.kernel.accessAllowed ? 'block' : 'none';\n",
              "\n",
              "        async function convertToInteractive(key) {\n",
              "          const element = document.querySelector('#df-81f6f3a1-712e-4f33-aa29-1c93aefc3749');\n",
              "          const dataTable =\n",
              "            await google.colab.kernel.invokeFunction('convertToInteractive',\n",
              "                                                     [key], {});\n",
              "          if (!dataTable) return;\n",
              "\n",
              "          const docLinkHtml = 'Like what you see? Visit the ' +\n",
              "            '<a target=\"_blank\" href=https://colab.research.google.com/notebooks/data_table.ipynb>data table notebook</a>'\n",
              "            + ' to learn more about interactive tables.';\n",
              "          element.innerHTML = '';\n",
              "          dataTable['output_type'] = 'display_data';\n",
              "          await google.colab.output.renderOutput(dataTable, element);\n",
              "          const docLink = document.createElement('div');\n",
              "          docLink.innerHTML = docLinkHtml;\n",
              "          element.appendChild(docLink);\n",
              "        }\n",
              "      </script>\n",
              "    </div>\n",
              "  </div>\n",
              "  "
            ],
            "text/plain": [
              "  Item_Identifier  Item_Weight  ...        Outlet_Type  Item_Outlet_Sales\n",
              "0           FDA15         9.30  ...  Supermarket Type1          3735.1380\n",
              "1           DRC01         5.92  ...  Supermarket Type2           443.4228\n",
              "2           FDN15        17.50  ...  Supermarket Type1          2097.2700\n",
              "3           FDX07        19.20  ...      Grocery Store           732.3800\n",
              "4           NCD19         8.93  ...  Supermarket Type1           994.7052\n",
              "\n",
              "[5 rows x 12 columns]"
            ]
          },
          "metadata": {},
          "execution_count": 38
        }
      ]
    },
    {
      "cell_type": "markdown",
      "source": [
        "### Revisión de la base de datos "
      ],
      "metadata": {
        "id": "SZbjw6iFDwVG"
      }
    },
    {
      "cell_type": "code",
      "source": [
        "sales_df.info()"
      ],
      "metadata": {
        "colab": {
          "base_uri": "https://localhost:8080/"
        },
        "id": "B48Rzozfd7Qn",
        "outputId": "1cd8b626-1b76-442a-f134-bd178745e8d6"
      },
      "execution_count": 24,
      "outputs": [
        {
          "output_type": "stream",
          "name": "stdout",
          "text": [
            "<class 'pandas.core.frame.DataFrame'>\n",
            "RangeIndex: 8523 entries, 0 to 8522\n",
            "Data columns (total 12 columns):\n",
            " #   Column                     Non-Null Count  Dtype  \n",
            "---  ------                     --------------  -----  \n",
            " 0   Item_Identifier            8523 non-null   object \n",
            " 1   Item_Weight                7060 non-null   float64\n",
            " 2   Item_Fat_Content           8523 non-null   object \n",
            " 3   Item_Visibility            8523 non-null   float64\n",
            " 4   Item_Type                  8523 non-null   object \n",
            " 5   Item_MRP                   8523 non-null   float64\n",
            " 6   Outlet_Identifier          8523 non-null   object \n",
            " 7   Outlet_Establishment_Year  8523 non-null   int64  \n",
            " 8   Outlet_Size                6113 non-null   object \n",
            " 9   Outlet_Location_Type       8523 non-null   object \n",
            " 10  Outlet_Type                8523 non-null   object \n",
            " 11  Item_Outlet_Sales          8523 non-null   float64\n",
            "dtypes: float64(4), int64(1), object(7)\n",
            "memory usage: 799.2+ KB\n"
          ]
        }
      ]
    },
    {
      "cell_type": "markdown",
      "source": [
        "### Estadistica descriptiva "
      ],
      "metadata": {
        "id": "WY08J2JNYxCI"
      }
    },
    {
      "cell_type": "code",
      "source": [
        "itemweigth_mean = sales_df.groupby(['Outlet_Identifier', 'Item_Identifier'])['Item_Weight'].mean() \n",
        "# en la anterior linea de codigo obtengo los datos por tienda y por articula para saber el peso medio de cada producto en la tienda \n",
        "itemweigth_mean"
      ],
      "metadata": {
        "colab": {
          "base_uri": "https://localhost:8080/"
        },
        "id": "jnkULSzRWCcK",
        "outputId": "4c692981-b930-4a9e-ce41-18f497ec024e"
      },
      "execution_count": 25,
      "outputs": [
        {
          "output_type": "execute_result",
          "data": {
            "text/plain": [
              "Outlet_Identifier  Item_Identifier\n",
              "OUT010             DRA12              11.600\n",
              "                   DRA24              19.350\n",
              "                   DRA59               8.270\n",
              "                   DRB13               6.115\n",
              "                   DRB25              12.300\n",
              "                                       ...  \n",
              "OUT049             NCZ18               7.825\n",
              "                   NCZ30               6.590\n",
              "                   NCZ42              10.500\n",
              "                   NCZ53               9.600\n",
              "                   NCZ54              14.650\n",
              "Name: Item_Weight, Length: 8523, dtype: float64"
            ]
          },
          "metadata": {},
          "execution_count": 25
        }
      ]
    },
    {
      "cell_type": "code",
      "source": [
        "itemweigth_min =  sales_df.groupby(['Outlet_Identifier', 'Item_Identifier'])['Item_Weight'].min()\n",
        "#La linea de codigo anterior es para conocer cual es el peso minimo que se esta entregando en cada local por producto    \n",
        "itemweigth_min"
      ],
      "metadata": {
        "colab": {
          "base_uri": "https://localhost:8080/"
        },
        "id": "1Ba5xqAJjG2J",
        "outputId": "46267a5e-9019-4702-8ec8-a43ae5d07953"
      },
      "execution_count": 26,
      "outputs": [
        {
          "output_type": "execute_result",
          "data": {
            "text/plain": [
              "Outlet_Identifier  Item_Identifier\n",
              "OUT010             DRA12              11.600\n",
              "                   DRA24              19.350\n",
              "                   DRA59               8.270\n",
              "                   DRB13               6.115\n",
              "                   DRB25              12.300\n",
              "                                       ...  \n",
              "OUT049             NCZ18               7.825\n",
              "                   NCZ30               6.590\n",
              "                   NCZ42              10.500\n",
              "                   NCZ53               9.600\n",
              "                   NCZ54              14.650\n",
              "Name: Item_Weight, Length: 8523, dtype: float64"
            ]
          },
          "metadata": {},
          "execution_count": 26
        }
      ]
    },
    {
      "cell_type": "code",
      "source": [
        "itemweigth_max =  sales_df.groupby(['Outlet_Identifier', 'Item_Identifier'])['Item_Weight'].max()\n",
        "#La linea de codigo anterior es para conocer cual es el peso maximo que se esta entregando en cada local por producto    \n",
        "itemweigth_max"
      ],
      "metadata": {
        "colab": {
          "base_uri": "https://localhost:8080/"
        },
        "id": "u29D72MNk-4u",
        "outputId": "b986cb93-3012-4c15-cceb-65c70f361f45"
      },
      "execution_count": 27,
      "outputs": [
        {
          "output_type": "execute_result",
          "data": {
            "text/plain": [
              "Outlet_Identifier  Item_Identifier\n",
              "OUT010             DRA12              11.600\n",
              "                   DRA24              19.350\n",
              "                   DRA59               8.270\n",
              "                   DRB13               6.115\n",
              "                   DRB25              12.300\n",
              "                                       ...  \n",
              "OUT049             NCZ18               7.825\n",
              "                   NCZ30               6.590\n",
              "                   NCZ42              10.500\n",
              "                   NCZ53               9.600\n",
              "                   NCZ54              14.650\n",
              "Name: Item_Weight, Length: 8523, dtype: float64"
            ]
          },
          "metadata": {},
          "execution_count": 27
        }
      ]
    },
    {
      "cell_type": "code",
      "source": [
        "itemweigth_var =  sales_df.groupby(['Outlet_Identifier', 'Item_Identifier'])['Item_Weight'].var()\n",
        "#La linea de codigo anterior es para conocer cual es el peso minimo que se esta entregando en cada local por producto    \n",
        "itemweigth_var"
      ],
      "metadata": {
        "colab": {
          "base_uri": "https://localhost:8080/"
        },
        "id": "dkUtDSnGldGd",
        "outputId": "23aa5f9e-9579-4fb7-e795-ba7be05bffbd"
      },
      "execution_count": 34,
      "outputs": [
        {
          "output_type": "execute_result",
          "data": {
            "text/plain": [
              "Outlet_Identifier  Item_Identifier\n",
              "OUT010             DRA12             NaN\n",
              "                   DRA24             NaN\n",
              "                   DRA59             NaN\n",
              "                   DRB13             NaN\n",
              "                   DRB25             NaN\n",
              "                                      ..\n",
              "OUT049             NCZ18             NaN\n",
              "                   NCZ30             NaN\n",
              "                   NCZ42             NaN\n",
              "                   NCZ53             NaN\n",
              "                   NCZ54             NaN\n",
              "Name: Item_Weight, Length: 8523, dtype: float64"
            ]
          },
          "metadata": {},
          "execution_count": 34
        }
      ]
    },
    {
      "cell_type": "code",
      "source": [
        "itemweigth_std =  sales_df.groupby(['Outlet_Identifier', 'Item_Identifier'])['Item_Weight'].std()\n",
        "#La linea de codigo anterior es para conocer cual es la dessviacion estandar del peso que se esta entregando en cada local por producto    \n",
        "itemweigth_std"
      ],
      "metadata": {
        "colab": {
          "base_uri": "https://localhost:8080/"
        },
        "id": "GFNx_JZlmSPc",
        "outputId": "b57dab7c-f509-4a00-d6b4-6345604c2bd5"
      },
      "execution_count": 31,
      "outputs": [
        {
          "output_type": "execute_result",
          "data": {
            "text/plain": [
              "Outlet_Identifier  Item_Identifier\n",
              "OUT010             DRA12             NaN\n",
              "                   DRA24             NaN\n",
              "                   DRA59             NaN\n",
              "                   DRB13             NaN\n",
              "                   DRB25             NaN\n",
              "                                      ..\n",
              "OUT049             NCZ18             NaN\n",
              "                   NCZ30             NaN\n",
              "                   NCZ42             NaN\n",
              "                   NCZ53             NaN\n",
              "                   NCZ54             NaN\n",
              "Name: Item_Weight, Length: 8523, dtype: float64"
            ]
          },
          "metadata": {},
          "execution_count": 31
        }
      ]
    },
    {
      "cell_type": "markdown",
      "source": [
        "#### *Al observar que el peso de los productos no tiene una variacion podemos llenar estos valores vacios con el peso del mismo producto*"
      ],
      "metadata": {
        "id": "cUsNIX0WmuiV"
      }
    },
    {
      "cell_type": "code",
      "source": [
        ""
      ],
      "metadata": {
        "colab": {
          "base_uri": "https://localhost:8080/"
        },
        "id": "orHNLWfgnG-O",
        "outputId": "13ecf95c-c0cc-4275-a561-b6033879adbb"
      },
      "execution_count": 37,
      "outputs": [
        {
          "output_type": "execute_result",
          "data": {
            "text/plain": [
              "<pandas.core.groupby.generic.DataFrameGroupBy object at 0x7fe74404c890>"
            ]
          },
          "metadata": {},
          "execution_count": 37
        }
      ]
    }
  ]
}